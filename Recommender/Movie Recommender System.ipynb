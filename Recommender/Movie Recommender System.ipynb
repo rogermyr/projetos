{
 "cells": [
  {
   "cell_type": "code",
   "execution_count": 1,
   "metadata": {},
   "outputs": [],
   "source": [
    "#Importando bibliotecas a serem utilizadas no projeto\n",
    "import pandas as pd\n",
    "import numpy as np\n",
    "import matplotlib.pyplot as plt \n",
    "from sklearn.model_selection import train_test_split \n",
    "from sklearn.metrics import mean_squared_error\n",
    "from sklearn.metrics.pairwise import cosine_distances\n",
    "from sklearn.neighbors import NearestNeighbors\n",
    "from collections import defaultdict\n",
    "from surprise import SVD\n",
    "from surprise import Dataset\n",
    "from surprise import Reader\n",
    "from surprise import accuracy\n",
    "from surprise.model_selection import KFold"
   ]
  },
  {
   "cell_type": "code",
   "execution_count": 2,
   "metadata": {},
   "outputs": [],
   "source": [
    "# Carregando dataset contendo os títulos dos filmes\n",
    "arquivo = \"./dataset/movies.csv\"\n",
    "movies = pd.read_csv(arquivo)\n",
    "# Carregando dataset contendo a avaliação dos filmes\n",
    "arquivo2 = \"./dataset/ratings.csv\"\n",
    "ratings = pd.read_csv(arquivo2)"
   ]
  },
  {
   "cell_type": "code",
   "execution_count": 3,
   "metadata": {},
   "outputs": [
    {
     "name": "stdout",
     "output_type": "stream",
     "text": [
      "Variáveis do dataset movies:  ['movieId' 'title' 'genres']\n",
      "Variáveis do dataset ratings:  ['userId' 'movieId' 'rating' 'timestamp']\n"
     ]
    }
   ],
   "source": [
    "# Variáveis disponíveis nos datasets\n",
    "print('Variáveis do dataset movies: ', movies.columns.values)\n",
    "print('Variáveis do dataset ratings: ', ratings.columns.values)"
   ]
  },
  {
   "cell_type": "code",
   "execution_count": 4,
   "metadata": {},
   "outputs": [
    {
     "data": {
      "text/html": [
       "<div>\n",
       "<style scoped>\n",
       "    .dataframe tbody tr th:only-of-type {\n",
       "        vertical-align: middle;\n",
       "    }\n",
       "\n",
       "    .dataframe tbody tr th {\n",
       "        vertical-align: top;\n",
       "    }\n",
       "\n",
       "    .dataframe thead th {\n",
       "        text-align: right;\n",
       "    }\n",
       "</style>\n",
       "<table border=\"1\" class=\"dataframe\">\n",
       "  <thead>\n",
       "    <tr style=\"text-align: right;\">\n",
       "      <th></th>\n",
       "      <th>userId</th>\n",
       "      <th>movieId</th>\n",
       "      <th>rating</th>\n",
       "      <th>timestamp</th>\n",
       "      <th>title</th>\n",
       "      <th>genres</th>\n",
       "    </tr>\n",
       "  </thead>\n",
       "  <tbody>\n",
       "    <tr>\n",
       "      <th>0</th>\n",
       "      <td>1</td>\n",
       "      <td>1</td>\n",
       "      <td>4.0</td>\n",
       "      <td>964982703</td>\n",
       "      <td>Toy Story (1995)</td>\n",
       "      <td>Adventure|Animation|Children|Comedy|Fantasy</td>\n",
       "    </tr>\n",
       "    <tr>\n",
       "      <th>1</th>\n",
       "      <td>5</td>\n",
       "      <td>1</td>\n",
       "      <td>4.0</td>\n",
       "      <td>847434962</td>\n",
       "      <td>Toy Story (1995)</td>\n",
       "      <td>Adventure|Animation|Children|Comedy|Fantasy</td>\n",
       "    </tr>\n",
       "    <tr>\n",
       "      <th>2</th>\n",
       "      <td>7</td>\n",
       "      <td>1</td>\n",
       "      <td>4.5</td>\n",
       "      <td>1106635946</td>\n",
       "      <td>Toy Story (1995)</td>\n",
       "      <td>Adventure|Animation|Children|Comedy|Fantasy</td>\n",
       "    </tr>\n",
       "    <tr>\n",
       "      <th>3</th>\n",
       "      <td>15</td>\n",
       "      <td>1</td>\n",
       "      <td>2.5</td>\n",
       "      <td>1510577970</td>\n",
       "      <td>Toy Story (1995)</td>\n",
       "      <td>Adventure|Animation|Children|Comedy|Fantasy</td>\n",
       "    </tr>\n",
       "    <tr>\n",
       "      <th>4</th>\n",
       "      <td>17</td>\n",
       "      <td>1</td>\n",
       "      <td>4.5</td>\n",
       "      <td>1305696483</td>\n",
       "      <td>Toy Story (1995)</td>\n",
       "      <td>Adventure|Animation|Children|Comedy|Fantasy</td>\n",
       "    </tr>\n",
       "  </tbody>\n",
       "</table>\n",
       "</div>"
      ],
      "text/plain": [
       "   userId  movieId  rating   timestamp             title  \\\n",
       "0       1        1     4.0   964982703  Toy Story (1995)   \n",
       "1       5        1     4.0   847434962  Toy Story (1995)   \n",
       "2       7        1     4.5  1106635946  Toy Story (1995)   \n",
       "3      15        1     2.5  1510577970  Toy Story (1995)   \n",
       "4      17        1     4.5  1305696483  Toy Story (1995)   \n",
       "\n",
       "                                        genres  \n",
       "0  Adventure|Animation|Children|Comedy|Fantasy  \n",
       "1  Adventure|Animation|Children|Comedy|Fantasy  \n",
       "2  Adventure|Animation|Children|Comedy|Fantasy  \n",
       "3  Adventure|Animation|Children|Comedy|Fantasy  \n",
       "4  Adventure|Animation|Children|Comedy|Fantasy  "
      ]
     },
     "execution_count": 4,
     "metadata": {},
     "output_type": "execute_result"
    }
   ],
   "source": [
    "# Mesclando os 2 datasets em um único, associado pela variável movieId\n",
    "data = ratings.merge(movies, on='movieId')\n",
    "data.head(5)"
   ]
  },
  {
   "cell_type": "code",
   "execution_count": 5,
   "metadata": {},
   "outputs": [
    {
     "data": {
      "text/html": [
       "<div>\n",
       "<style scoped>\n",
       "    .dataframe tbody tr th:only-of-type {\n",
       "        vertical-align: middle;\n",
       "    }\n",
       "\n",
       "    .dataframe tbody tr th {\n",
       "        vertical-align: top;\n",
       "    }\n",
       "\n",
       "    .dataframe thead th {\n",
       "        text-align: right;\n",
       "    }\n",
       "</style>\n",
       "<table border=\"1\" class=\"dataframe\">\n",
       "  <thead>\n",
       "    <tr style=\"text-align: right;\">\n",
       "      <th></th>\n",
       "      <th>userId</th>\n",
       "      <th>movieId</th>\n",
       "      <th>rating</th>\n",
       "      <th>title</th>\n",
       "      <th>genres</th>\n",
       "    </tr>\n",
       "  </thead>\n",
       "  <tbody>\n",
       "    <tr>\n",
       "      <th>0</th>\n",
       "      <td>1</td>\n",
       "      <td>1</td>\n",
       "      <td>4.0</td>\n",
       "      <td>Toy Story (1995)</td>\n",
       "      <td>Adventure|Animation|Children|Comedy|Fantasy</td>\n",
       "    </tr>\n",
       "    <tr>\n",
       "      <th>1</th>\n",
       "      <td>5</td>\n",
       "      <td>1</td>\n",
       "      <td>4.0</td>\n",
       "      <td>Toy Story (1995)</td>\n",
       "      <td>Adventure|Animation|Children|Comedy|Fantasy</td>\n",
       "    </tr>\n",
       "    <tr>\n",
       "      <th>2</th>\n",
       "      <td>7</td>\n",
       "      <td>1</td>\n",
       "      <td>4.5</td>\n",
       "      <td>Toy Story (1995)</td>\n",
       "      <td>Adventure|Animation|Children|Comedy|Fantasy</td>\n",
       "    </tr>\n",
       "    <tr>\n",
       "      <th>3</th>\n",
       "      <td>15</td>\n",
       "      <td>1</td>\n",
       "      <td>2.5</td>\n",
       "      <td>Toy Story (1995)</td>\n",
       "      <td>Adventure|Animation|Children|Comedy|Fantasy</td>\n",
       "    </tr>\n",
       "    <tr>\n",
       "      <th>4</th>\n",
       "      <td>17</td>\n",
       "      <td>1</td>\n",
       "      <td>4.5</td>\n",
       "      <td>Toy Story (1995)</td>\n",
       "      <td>Adventure|Animation|Children|Comedy|Fantasy</td>\n",
       "    </tr>\n",
       "  </tbody>\n",
       "</table>\n",
       "</div>"
      ],
      "text/plain": [
       "   userId  movieId  rating             title  \\\n",
       "0       1        1     4.0  Toy Story (1995)   \n",
       "1       5        1     4.0  Toy Story (1995)   \n",
       "2       7        1     4.5  Toy Story (1995)   \n",
       "3      15        1     2.5  Toy Story (1995)   \n",
       "4      17        1     4.5  Toy Story (1995)   \n",
       "\n",
       "                                        genres  \n",
       "0  Adventure|Animation|Children|Comedy|Fantasy  \n",
       "1  Adventure|Animation|Children|Comedy|Fantasy  \n",
       "2  Adventure|Animation|Children|Comedy|Fantasy  \n",
       "3  Adventure|Animation|Children|Comedy|Fantasy  \n",
       "4  Adventure|Animation|Children|Comedy|Fantasy  "
      ]
     },
     "execution_count": 5,
     "metadata": {},
     "output_type": "execute_result"
    }
   ],
   "source": [
    "data = data.drop('timestamp', axis = 1)\n",
    "data.head()"
   ]
  },
  {
   "cell_type": "code",
   "execution_count": 6,
   "metadata": {},
   "outputs": [
    {
     "data": {
      "text/plain": [
       "<matplotlib.axes._subplots.AxesSubplot at 0x182e5594148>"
      ]
     },
     "execution_count": 6,
     "metadata": {},
     "output_type": "execute_result"
    },
    {
     "data": {
      "image/png": "[encoded data removed]",
      "text/plain": [
       "<Figure size 432x288 with 1 Axes>"
      ]
     },
     "metadata": {
      "needs_background": "light"
     },
     "output_type": "display_data"
    }
   ],
   "source": [
    "# Histograma das avaliações\n",
    "data.rating.hist()"
   ]
  },
  {
   "cell_type": "code",
   "execution_count": 7,
   "metadata": {},
   "outputs": [],
   "source": [
    "# Calculando a quantidade de avaliações dadas por cada usuário\n",
    "data['count'] = data.apply(lambda x: data[data['userId']==x[0]].shape[0], axis = 1)"
   ]
  },
  {
   "cell_type": "code",
   "execution_count": 8,
   "metadata": {},
   "outputs": [
    {
     "data": {
      "text/html": [
       "<div>\n",
       "<style scoped>\n",
       "    .dataframe tbody tr th:only-of-type {\n",
       "        vertical-align: middle;\n",
       "    }\n",
       "\n",
       "    .dataframe tbody tr th {\n",
       "        vertical-align: top;\n",
       "    }\n",
       "\n",
       "    .dataframe thead th {\n",
       "        text-align: right;\n",
       "    }\n",
       "</style>\n",
       "<table border=\"1\" class=\"dataframe\">\n",
       "  <thead>\n",
       "    <tr style=\"text-align: right;\">\n",
       "      <th></th>\n",
       "      <th>rating</th>\n",
       "      <th>count</th>\n",
       "    </tr>\n",
       "    <tr>\n",
       "      <th>userId</th>\n",
       "      <th></th>\n",
       "      <th></th>\n",
       "    </tr>\n",
       "  </thead>\n",
       "  <tbody>\n",
       "    <tr>\n",
       "      <th>414</th>\n",
       "      <td>3.391957</td>\n",
       "      <td>2698</td>\n",
       "    </tr>\n",
       "    <tr>\n",
       "      <th>599</th>\n",
       "      <td>2.642050</td>\n",
       "      <td>2478</td>\n",
       "    </tr>\n",
       "    <tr>\n",
       "      <th>474</th>\n",
       "      <td>3.398956</td>\n",
       "      <td>2108</td>\n",
       "    </tr>\n",
       "    <tr>\n",
       "      <th>448</th>\n",
       "      <td>2.847371</td>\n",
       "      <td>1864</td>\n",
       "    </tr>\n",
       "    <tr>\n",
       "      <th>274</th>\n",
       "      <td>3.235884</td>\n",
       "      <td>1346</td>\n",
       "    </tr>\n",
       "    <tr>\n",
       "      <th>610</th>\n",
       "      <td>3.688556</td>\n",
       "      <td>1302</td>\n",
       "    </tr>\n",
       "    <tr>\n",
       "      <th>68</th>\n",
       "      <td>3.233730</td>\n",
       "      <td>1260</td>\n",
       "    </tr>\n",
       "    <tr>\n",
       "      <th>380</th>\n",
       "      <td>3.673235</td>\n",
       "      <td>1218</td>\n",
       "    </tr>\n",
       "    <tr>\n",
       "      <th>606</th>\n",
       "      <td>3.657399</td>\n",
       "      <td>1115</td>\n",
       "    </tr>\n",
       "    <tr>\n",
       "      <th>288</th>\n",
       "      <td>3.145972</td>\n",
       "      <td>1055</td>\n",
       "    </tr>\n",
       "  </tbody>\n",
       "</table>\n",
       "</div>"
      ],
      "text/plain": [
       "          rating  count\n",
       "userId                 \n",
       "414     3.391957   2698\n",
       "599     2.642050   2478\n",
       "474     3.398956   2108\n",
       "448     2.847371   1864\n",
       "274     3.235884   1346\n",
       "610     3.688556   1302\n",
       "68      3.233730   1260\n",
       "380     3.673235   1218\n",
       "606     3.657399   1115\n",
       "288     3.145972   1055"
      ]
     },
     "execution_count": 8,
     "metadata": {},
     "output_type": "execute_result"
    }
   ],
   "source": [
    "# Agrupamento, informando a média das avaliações de cada usuário e ordenando pela quantidade de filmes avaliados\n",
    "data.groupby('userId')['rating','count'].mean().sort_values(by='count', ascending = False).head(10)"
   ]
  },
  {
   "cell_type": "code",
   "execution_count": 9,
   "metadata": {},
   "outputs": [
    {
     "data": {
      "text/html": [
       "<div>\n",
       "<style scoped>\n",
       "    .dataframe tbody tr th:only-of-type {\n",
       "        vertical-align: middle;\n",
       "    }\n",
       "\n",
       "    .dataframe tbody tr th {\n",
       "        vertical-align: top;\n",
       "    }\n",
       "\n",
       "    .dataframe thead th {\n",
       "        text-align: right;\n",
       "    }\n",
       "</style>\n",
       "<table border=\"1\" class=\"dataframe\">\n",
       "  <thead>\n",
       "    <tr style=\"text-align: right;\">\n",
       "      <th></th>\n",
       "      <th>userId</th>\n",
       "      <th>movieId</th>\n",
       "      <th>rating</th>\n",
       "      <th>title</th>\n",
       "      <th>genres</th>\n",
       "      <th>count</th>\n",
       "    </tr>\n",
       "  </thead>\n",
       "  <tbody>\n",
       "    <tr>\n",
       "      <th>34508</th>\n",
       "      <td>500</td>\n",
       "      <td>1784</td>\n",
       "      <td>5.0</td>\n",
       "      <td>As Good as It Gets (1997)</td>\n",
       "      <td>Comedy|Drama|Romance</td>\n",
       "      <td>86</td>\n",
       "    </tr>\n",
       "    <tr>\n",
       "      <th>60205</th>\n",
       "      <td>500</td>\n",
       "      <td>1747</td>\n",
       "      <td>5.0</td>\n",
       "      <td>Wag the Dog (1997)</td>\n",
       "      <td>Comedy</td>\n",
       "      <td>86</td>\n",
       "    </tr>\n",
       "    <tr>\n",
       "      <th>34866</th>\n",
       "      <td>500</td>\n",
       "      <td>3114</td>\n",
       "      <td>5.0</td>\n",
       "      <td>Toy Story 2 (1999)</td>\n",
       "      <td>Adventure|Animation|Children|Comedy|Fantasy</td>\n",
       "      <td>86</td>\n",
       "    </tr>\n",
       "    <tr>\n",
       "      <th>19271</th>\n",
       "      <td>500</td>\n",
       "      <td>176</td>\n",
       "      <td>5.0</td>\n",
       "      <td>Living in Oblivion (1995)</td>\n",
       "      <td>Comedy</td>\n",
       "      <td>86</td>\n",
       "    </tr>\n",
       "    <tr>\n",
       "      <th>69963</th>\n",
       "      <td>500</td>\n",
       "      <td>1175</td>\n",
       "      <td>5.0</td>\n",
       "      <td>Delicatessen (1991)</td>\n",
       "      <td>Comedy|Drama|Romance</td>\n",
       "      <td>86</td>\n",
       "    </tr>\n",
       "    <tr>\n",
       "      <th>14839</th>\n",
       "      <td>500</td>\n",
       "      <td>2997</td>\n",
       "      <td>5.0</td>\n",
       "      <td>Being John Malkovich (1999)</td>\n",
       "      <td>Comedy|Drama|Fantasy</td>\n",
       "      <td>86</td>\n",
       "    </tr>\n",
       "    <tr>\n",
       "      <th>61602</th>\n",
       "      <td>500</td>\n",
       "      <td>2355</td>\n",
       "      <td>5.0</td>\n",
       "      <td>Bug's Life, A (1998)</td>\n",
       "      <td>Adventure|Animation|Children|Comedy</td>\n",
       "      <td>86</td>\n",
       "    </tr>\n",
       "    <tr>\n",
       "      <th>14016</th>\n",
       "      <td>500</td>\n",
       "      <td>2858</td>\n",
       "      <td>5.0</td>\n",
       "      <td>American Beauty (1999)</td>\n",
       "      <td>Drama|Romance</td>\n",
       "      <td>86</td>\n",
       "    </tr>\n",
       "    <tr>\n",
       "      <th>13560</th>\n",
       "      <td>500</td>\n",
       "      <td>2700</td>\n",
       "      <td>5.0</td>\n",
       "      <td>South Park: Bigger, Longer and Uncut (1999)</td>\n",
       "      <td>Animation|Comedy|Musical</td>\n",
       "      <td>86</td>\n",
       "    </tr>\n",
       "    <tr>\n",
       "      <th>12628</th>\n",
       "      <td>500</td>\n",
       "      <td>2542</td>\n",
       "      <td>5.0</td>\n",
       "      <td>Lock, Stock &amp; Two Smoking Barrels (1998)</td>\n",
       "      <td>Comedy|Crime|Thriller</td>\n",
       "      <td>86</td>\n",
       "    </tr>\n",
       "    <tr>\n",
       "      <th>63443</th>\n",
       "      <td>500</td>\n",
       "      <td>3355</td>\n",
       "      <td>5.0</td>\n",
       "      <td>Ninth Gate, The (1999)</td>\n",
       "      <td>Fantasy|Horror|Mystery|Thriller</td>\n",
       "      <td>86</td>\n",
       "    </tr>\n",
       "    <tr>\n",
       "      <th>35431</th>\n",
       "      <td>500</td>\n",
       "      <td>4306</td>\n",
       "      <td>5.0</td>\n",
       "      <td>Shrek (2001)</td>\n",
       "      <td>Adventure|Animation|Children|Comedy|Fantasy|Ro...</td>\n",
       "      <td>86</td>\n",
       "    </tr>\n",
       "    <tr>\n",
       "      <th>9051</th>\n",
       "      <td>500</td>\n",
       "      <td>1282</td>\n",
       "      <td>5.0</td>\n",
       "      <td>Fantasia (1940)</td>\n",
       "      <td>Animation|Children|Fantasy|Musical</td>\n",
       "      <td>86</td>\n",
       "    </tr>\n",
       "    <tr>\n",
       "      <th>58756</th>\n",
       "      <td>500</td>\n",
       "      <td>1215</td>\n",
       "      <td>4.0</td>\n",
       "      <td>Army of Darkness (1993)</td>\n",
       "      <td>Action|Adventure|Comedy|Fantasy|Horror</td>\n",
       "      <td>86</td>\n",
       "    </tr>\n",
       "    <tr>\n",
       "      <th>28482</th>\n",
       "      <td>500</td>\n",
       "      <td>104</td>\n",
       "      <td>4.0</td>\n",
       "      <td>Happy Gilmore (1996)</td>\n",
       "      <td>Comedy</td>\n",
       "      <td>86</td>\n",
       "    </tr>\n",
       "    <tr>\n",
       "      <th>21960</th>\n",
       "      <td>500</td>\n",
       "      <td>1641</td>\n",
       "      <td>4.0</td>\n",
       "      <td>Full Monty, The (1997)</td>\n",
       "      <td>Comedy|Drama</td>\n",
       "      <td>86</td>\n",
       "    </tr>\n",
       "    <tr>\n",
       "      <th>63400</th>\n",
       "      <td>500</td>\n",
       "      <td>3301</td>\n",
       "      <td>4.0</td>\n",
       "      <td>Whole Nine Yards, The (2000)</td>\n",
       "      <td>Comedy|Crime</td>\n",
       "      <td>86</td>\n",
       "    </tr>\n",
       "    <tr>\n",
       "      <th>32072</th>\n",
       "      <td>500</td>\n",
       "      <td>440</td>\n",
       "      <td>4.0</td>\n",
       "      <td>Dave (1993)</td>\n",
       "      <td>Comedy|Romance</td>\n",
       "      <td>86</td>\n",
       "    </tr>\n",
       "    <tr>\n",
       "      <th>62165</th>\n",
       "      <td>500</td>\n",
       "      <td>2539</td>\n",
       "      <td>4.0</td>\n",
       "      <td>Analyze This (1999)</td>\n",
       "      <td>Comedy</td>\n",
       "      <td>86</td>\n",
       "    </tr>\n",
       "    <tr>\n",
       "      <th>29278</th>\n",
       "      <td>500</td>\n",
       "      <td>180</td>\n",
       "      <td>4.0</td>\n",
       "      <td>Mallrats (1995)</td>\n",
       "      <td>Comedy|Romance</td>\n",
       "      <td>86</td>\n",
       "    </tr>\n",
       "  </tbody>\n",
       "</table>\n",
       "</div>"
      ],
      "text/plain": [
       "       userId  movieId  rating                                        title  \\\n",
       "34508     500     1784     5.0                    As Good as It Gets (1997)   \n",
       "60205     500     1747     5.0                           Wag the Dog (1997)   \n",
       "34866     500     3114     5.0                           Toy Story 2 (1999)   \n",
       "19271     500      176     5.0                    Living in Oblivion (1995)   \n",
       "69963     500     1175     5.0                          Delicatessen (1991)   \n",
       "14839     500     2997     5.0                  Being John Malkovich (1999)   \n",
       "61602     500     2355     5.0                         Bug's Life, A (1998)   \n",
       "14016     500     2858     5.0                       American Beauty (1999)   \n",
       "13560     500     2700     5.0  South Park: Bigger, Longer and Uncut (1999)   \n",
       "12628     500     2542     5.0     Lock, Stock & Two Smoking Barrels (1998)   \n",
       "63443     500     3355     5.0                       Ninth Gate, The (1999)   \n",
       "35431     500     4306     5.0                                 Shrek (2001)   \n",
       "9051      500     1282     5.0                              Fantasia (1940)   \n",
       "58756     500     1215     4.0                      Army of Darkness (1993)   \n",
       "28482     500      104     4.0                         Happy Gilmore (1996)   \n",
       "21960     500     1641     4.0                       Full Monty, The (1997)   \n",
       "63400     500     3301     4.0                 Whole Nine Yards, The (2000)   \n",
       "32072     500      440     4.0                                  Dave (1993)   \n",
       "62165     500     2539     4.0                          Analyze This (1999)   \n",
       "29278     500      180     4.0                              Mallrats (1995)   \n",
       "\n",
       "                                                  genres  count  \n",
       "34508                               Comedy|Drama|Romance     86  \n",
       "60205                                             Comedy     86  \n",
       "34866        Adventure|Animation|Children|Comedy|Fantasy     86  \n",
       "19271                                             Comedy     86  \n",
       "69963                               Comedy|Drama|Romance     86  \n",
       "14839                               Comedy|Drama|Fantasy     86  \n",
       "61602                Adventure|Animation|Children|Comedy     86  \n",
       "14016                                      Drama|Romance     86  \n",
       "13560                           Animation|Comedy|Musical     86  \n",
       "12628                              Comedy|Crime|Thriller     86  \n",
       "63443                    Fantasy|Horror|Mystery|Thriller     86  \n",
       "35431  Adventure|Animation|Children|Comedy|Fantasy|Ro...     86  \n",
       "9051                  Animation|Children|Fantasy|Musical     86  \n",
       "58756             Action|Adventure|Comedy|Fantasy|Horror     86  \n",
       "28482                                             Comedy     86  \n",
       "21960                                       Comedy|Drama     86  \n",
       "63400                                       Comedy|Crime     86  \n",
       "32072                                     Comedy|Romance     86  \n",
       "62165                                             Comedy     86  \n",
       "29278                                     Comedy|Romance     86  "
      ]
     },
     "execution_count": 9,
     "metadata": {},
     "output_type": "execute_result"
    }
   ],
   "source": [
    "# Filmes avaliados pelo userId 500\n",
    "data[data['userId']==500].sort_values(by='rating', ascending = False).head(20)"
   ]
  },
  {
   "cell_type": "code",
   "execution_count": 10,
   "metadata": {},
   "outputs": [
    {
     "data": {
      "text/plain": [
       "userId     0\n",
       "movieId    0\n",
       "rating     0\n",
       "title      0\n",
       "genres     0\n",
       "count      0\n",
       "dtype: int64"
      ]
     },
     "execution_count": 10,
     "metadata": {},
     "output_type": "execute_result"
    }
   ],
   "source": [
    "# Verificando se o dataset possui valores missing\n",
    "data.isna().sum()"
   ]
  },
  {
   "cell_type": "code",
   "execution_count": 11,
   "metadata": {},
   "outputs": [
    {
     "data": {
      "text/html": [
       "<div>\n",
       "<style scoped>\n",
       "    .dataframe tbody tr th:only-of-type {\n",
       "        vertical-align: middle;\n",
       "    }\n",
       "\n",
       "    .dataframe tbody tr th {\n",
       "        vertical-align: top;\n",
       "    }\n",
       "\n",
       "    .dataframe thead th {\n",
       "        text-align: right;\n",
       "    }\n",
       "</style>\n",
       "<table border=\"1\" class=\"dataframe\">\n",
       "  <thead>\n",
       "    <tr style=\"text-align: right;\">\n",
       "      <th>movieId</th>\n",
       "      <th>1</th>\n",
       "      <th>2</th>\n",
       "      <th>3</th>\n",
       "      <th>4</th>\n",
       "      <th>5</th>\n",
       "      <th>6</th>\n",
       "      <th>7</th>\n",
       "      <th>8</th>\n",
       "      <th>9</th>\n",
       "      <th>10</th>\n",
       "      <th>...</th>\n",
       "      <th>193565</th>\n",
       "      <th>193567</th>\n",
       "      <th>193571</th>\n",
       "      <th>193573</th>\n",
       "      <th>193579</th>\n",
       "      <th>193581</th>\n",
       "      <th>193583</th>\n",
       "      <th>193585</th>\n",
       "      <th>193587</th>\n",
       "      <th>193609</th>\n",
       "    </tr>\n",
       "    <tr>\n",
       "      <th>userId</th>\n",
       "      <th></th>\n",
       "      <th></th>\n",
       "      <th></th>\n",
       "      <th></th>\n",
       "      <th></th>\n",
       "      <th></th>\n",
       "      <th></th>\n",
       "      <th></th>\n",
       "      <th></th>\n",
       "      <th></th>\n",
       "      <th></th>\n",
       "      <th></th>\n",
       "      <th></th>\n",
       "      <th></th>\n",
       "      <th></th>\n",
       "      <th></th>\n",
       "      <th></th>\n",
       "      <th></th>\n",
       "      <th></th>\n",
       "      <th></th>\n",
       "      <th></th>\n",
       "    </tr>\n",
       "  </thead>\n",
       "  <tbody>\n",
       "    <tr>\n",
       "      <th>1</th>\n",
       "      <td>4.0</td>\n",
       "      <td>0.0</td>\n",
       "      <td>4.0</td>\n",
       "      <td>0.0</td>\n",
       "      <td>0.0</td>\n",
       "      <td>4.0</td>\n",
       "      <td>0.0</td>\n",
       "      <td>0.0</td>\n",
       "      <td>0.0</td>\n",
       "      <td>0.0</td>\n",
       "      <td>...</td>\n",
       "      <td>0.0</td>\n",
       "      <td>0.0</td>\n",
       "      <td>0.0</td>\n",
       "      <td>0.0</td>\n",
       "      <td>0.0</td>\n",
       "      <td>0.0</td>\n",
       "      <td>0.0</td>\n",
       "      <td>0.0</td>\n",
       "      <td>0.0</td>\n",
       "      <td>0.0</td>\n",
       "    </tr>\n",
       "    <tr>\n",
       "      <th>2</th>\n",
       "      <td>0.0</td>\n",
       "      <td>0.0</td>\n",
       "      <td>0.0</td>\n",
       "      <td>0.0</td>\n",
       "      <td>0.0</td>\n",
       "      <td>0.0</td>\n",
       "      <td>0.0</td>\n",
       "      <td>0.0</td>\n",
       "      <td>0.0</td>\n",
       "      <td>0.0</td>\n",
       "      <td>...</td>\n",
       "      <td>0.0</td>\n",
       "      <td>0.0</td>\n",
       "      <td>0.0</td>\n",
       "      <td>0.0</td>\n",
       "      <td>0.0</td>\n",
       "      <td>0.0</td>\n",
       "      <td>0.0</td>\n",
       "      <td>0.0</td>\n",
       "      <td>0.0</td>\n",
       "      <td>0.0</td>\n",
       "    </tr>\n",
       "    <tr>\n",
       "      <th>3</th>\n",
       "      <td>0.0</td>\n",
       "      <td>0.0</td>\n",
       "      <td>0.0</td>\n",
       "      <td>0.0</td>\n",
       "      <td>0.0</td>\n",
       "      <td>0.0</td>\n",
       "      <td>0.0</td>\n",
       "      <td>0.0</td>\n",
       "      <td>0.0</td>\n",
       "      <td>0.0</td>\n",
       "      <td>...</td>\n",
       "      <td>0.0</td>\n",
       "      <td>0.0</td>\n",
       "      <td>0.0</td>\n",
       "      <td>0.0</td>\n",
       "      <td>0.0</td>\n",
       "      <td>0.0</td>\n",
       "      <td>0.0</td>\n",
       "      <td>0.0</td>\n",
       "      <td>0.0</td>\n",
       "      <td>0.0</td>\n",
       "    </tr>\n",
       "    <tr>\n",
       "      <th>4</th>\n",
       "      <td>0.0</td>\n",
       "      <td>0.0</td>\n",
       "      <td>0.0</td>\n",
       "      <td>0.0</td>\n",
       "      <td>0.0</td>\n",
       "      <td>0.0</td>\n",
       "      <td>0.0</td>\n",
       "      <td>0.0</td>\n",
       "      <td>0.0</td>\n",
       "      <td>0.0</td>\n",
       "      <td>...</td>\n",
       "      <td>0.0</td>\n",
       "      <td>0.0</td>\n",
       "      <td>0.0</td>\n",
       "      <td>0.0</td>\n",
       "      <td>0.0</td>\n",
       "      <td>0.0</td>\n",
       "      <td>0.0</td>\n",
       "      <td>0.0</td>\n",
       "      <td>0.0</td>\n",
       "      <td>0.0</td>\n",
       "    </tr>\n",
       "    <tr>\n",
       "      <th>5</th>\n",
       "      <td>4.0</td>\n",
       "      <td>0.0</td>\n",
       "      <td>0.0</td>\n",
       "      <td>0.0</td>\n",
       "      <td>0.0</td>\n",
       "      <td>0.0</td>\n",
       "      <td>0.0</td>\n",
       "      <td>0.0</td>\n",
       "      <td>0.0</td>\n",
       "      <td>0.0</td>\n",
       "      <td>...</td>\n",
       "      <td>0.0</td>\n",
       "      <td>0.0</td>\n",
       "      <td>0.0</td>\n",
       "      <td>0.0</td>\n",
       "      <td>0.0</td>\n",
       "      <td>0.0</td>\n",
       "      <td>0.0</td>\n",
       "      <td>0.0</td>\n",
       "      <td>0.0</td>\n",
       "      <td>0.0</td>\n",
       "    </tr>\n",
       "  </tbody>\n",
       "</table>\n",
       "<p>5 rows × 9724 columns</p>\n",
       "</div>"
      ],
      "text/plain": [
       "movieId  1       2       3       4       5       6       7       8       \\\n",
       "userId                                                                    \n",
       "1           4.0     0.0     4.0     0.0     0.0     4.0     0.0     0.0   \n",
       "2           0.0     0.0     0.0     0.0     0.0     0.0     0.0     0.0   \n",
       "3           0.0     0.0     0.0     0.0     0.0     0.0     0.0     0.0   \n",
       "4           0.0     0.0     0.0     0.0     0.0     0.0     0.0     0.0   \n",
       "5           4.0     0.0     0.0     0.0     0.0     0.0     0.0     0.0   \n",
       "\n",
       "movieId  9       10      ...  193565  193567  193571  193573  193579  193581  \\\n",
       "userId                   ...                                                   \n",
       "1           0.0     0.0  ...     0.0     0.0     0.0     0.0     0.0     0.0   \n",
       "2           0.0     0.0  ...     0.0     0.0     0.0     0.0     0.0     0.0   \n",
       "3           0.0     0.0  ...     0.0     0.0     0.0     0.0     0.0     0.0   \n",
       "4           0.0     0.0  ...     0.0     0.0     0.0     0.0     0.0     0.0   \n",
       "5           0.0     0.0  ...     0.0     0.0     0.0     0.0     0.0     0.0   \n",
       "\n",
       "movieId  193583  193585  193587  193609  \n",
       "userId                                   \n",
       "1           0.0     0.0     0.0     0.0  \n",
       "2           0.0     0.0     0.0     0.0  \n",
       "3           0.0     0.0     0.0     0.0  \n",
       "4           0.0     0.0     0.0     0.0  \n",
       "5           0.0     0.0     0.0     0.0  \n",
       "\n",
       "[5 rows x 9724 columns]"
      ]
     },
     "execution_count": 11,
     "metadata": {},
     "output_type": "execute_result"
    }
   ],
   "source": [
    "# Convertendo o dataset em uma matriz esparsa, com os valores missing substituídos por 0 \n",
    "# (lembrando que 0 não é a avaliação do filme, e sim que o usuário ainda não avalou)\n",
    "data2 = data.pivot(index='userId', columns='movieId', values='rating').fillna(0)\n",
    "data2.head()"
   ]
  },
  {
   "cell_type": "code",
   "execution_count": 12,
   "metadata": {},
   "outputs": [
    {
     "data": {
      "text/plain": [
       "array([[4. , 0. , 4. , ..., 0. , 0. , 0. ],\n",
       "       [0. , 0. , 0. , ..., 0. , 0. , 0. ],\n",
       "       [0. , 0. , 0. , ..., 0. , 0. , 0. ],\n",
       "       ...,\n",
       "       [2.5, 2. , 2. , ..., 0. , 0. , 0. ],\n",
       "       [3. , 0. , 0. , ..., 0. , 0. , 0. ],\n",
       "       [5. , 0. , 0. , ..., 0. , 0. , 0. ]])"
      ]
     },
     "execution_count": 12,
     "metadata": {},
     "output_type": "execute_result"
    }
   ],
   "source": [
    "# Convertendo dataframe em array\n",
    "data3 = data2.to_numpy()\n",
    "data3"
   ]
  },
  {
   "cell_type": "code",
   "execution_count": 13,
   "metadata": {},
   "outputs": [
    {
     "name": "stdout",
     "output_type": "stream",
     "text": [
      "Esparsidade: 1.70%\n"
     ]
    }
   ],
   "source": [
    "#Calculando a Esparsidade - Taxa ( em % ) de valores diferentes de zero na matriz\n",
    "sparsity = float(len(data3.nonzero()[0]))\n",
    "sparsity /= (data3.shape[0] * data3.shape[1])\n",
    "sparsity *= 100 \n",
    "print('Esparsidade: {:4.2f}%'.format(sparsity))"
   ]
  },
  {
   "cell_type": "code",
   "execution_count": 14,
   "metadata": {},
   "outputs": [
    {
     "data": {
      "text/plain": [
       "(427, 9724)"
      ]
     },
     "execution_count": 14,
     "metadata": {},
     "output_type": "execute_result"
    }
   ],
   "source": [
    "# Dividindo os arrays em dados de treino e teste ( 70% Treino e 30% Teste )\n",
    "train, test = train_test_split(data3, test_size = 0.3, random_state = 158)\n",
    "train.shape"
   ]
  },
  {
   "cell_type": "code",
   "execution_count": 15,
   "metadata": {},
   "outputs": [
    {
     "data": {
      "text/plain": [
       "array([[1.        , 0.06358911, 0.21197785, ..., 0.18282331, 0.08234365,\n",
       "        0.01986435],\n",
       "       [0.06358911, 1.        , 0.0951586 , ..., 0.10358461, 0.03223509,\n",
       "        0.05648592],\n",
       "       [0.21197785, 0.0951586 , 1.        , ..., 0.23088958, 0.06762014,\n",
       "        0.04386099],\n",
       "       ...,\n",
       "       [0.18282331, 0.10358461, 0.23088958, ..., 1.        , 0.09244495,\n",
       "        0.05746391],\n",
       "       [0.08234365, 0.03223509, 0.06762014, ..., 0.09244495, 1.        ,\n",
       "        0.07196013],\n",
       "       [0.01986435, 0.05648592, 0.04386099, ..., 0.05746391, 0.07196013,\n",
       "        1.        ]])"
      ]
     },
     "execution_count": 15,
     "metadata": {},
     "output_type": "execute_result"
    }
   ],
   "source": [
    "# Calculando a similaridade de cossenos entre cada usuário\n",
    "dist_out = 1 - cosine_distances(train)\n",
    "dist_out"
   ]
  },
  {
   "cell_type": "code",
   "execution_count": 16,
   "metadata": {},
   "outputs": [
    {
     "data": {
      "text/plain": [
       "array([[1.69867448, 0.79935061, 0.19924843, ..., 0.00803672, 0.00803672,\n",
       "        0.01998879],\n",
       "       [1.5472915 , 1.02609205, 0.34885273, ..., 0.        , 0.        ,\n",
       "        0.00203823],\n",
       "       [1.68358809, 0.78095211, 0.26467931, ..., 0.00187757, 0.00187757,\n",
       "        0.01448093],\n",
       "       ...,\n",
       "       [1.66710045, 0.79128992, 0.23423719, ..., 0.00178872, 0.00178872,\n",
       "        0.01640912],\n",
       "       [1.64762897, 0.75156374, 0.24685315, ..., 0.        , 0.        ,\n",
       "        0.00496233],\n",
       "       [1.60595987, 0.79989039, 0.29527151, ..., 0.00295178, 0.00295178,\n",
       "        0.00264405]])"
      ]
     },
     "execution_count": 16,
     "metadata": {},
     "output_type": "execute_result"
    }
   ],
   "source": [
    "# Cálculo dos ratings predistos\n",
    "user_pred = dist_out.dot(train) / np.array([np.abs(dist_out).sum(axis=1)]).T\n",
    "user_pred"
   ]
  },
  {
   "cell_type": "code",
   "execution_count": 17,
   "metadata": {},
   "outputs": [],
   "source": [
    "# Função para obter as métricas\n",
    "# Usaremos o MSE (Mean Square Error) para avaliar os erros comparando valores atuais e valores previstos\n",
    "# Quanto menor, melhor!\n",
    "def get_mse(pred, atual):\n",
    "    pred = pred[atual.nonzero()].flatten()\n",
    "    atual = atual[atual.nonzero()].flatten()\n",
    "    return mean_squared_error(pred, atual)"
   ]
  },
  {
   "cell_type": "code",
   "execution_count": 18,
   "metadata": {},
   "outputs": [
    {
     "data": {
      "text/plain": [
       "9.337427733413215"
      ]
     },
     "execution_count": 18,
     "metadata": {},
     "output_type": "execute_result"
    }
   ],
   "source": [
    "# Avaliando as predições nos dados de treino\n",
    "get_mse(user_pred, train)"
   ]
  },
  {
   "cell_type": "code",
   "execution_count": 19,
   "metadata": {},
   "outputs": [
    {
     "data": {
      "text/plain": [
       "10.832280619314165"
      ]
     },
     "execution_count": 19,
     "metadata": {},
     "output_type": "execute_result"
    }
   ],
   "source": [
    "# Avaliando as predições nos dados de teste\n",
    "get_mse(user_pred, test)"
   ]
  },
  {
   "cell_type": "markdown",
   "metadata": {},
   "source": [
    "Como podemos observar, o valor do MSE ficou alto, o que nos leva a testart outros algoritmos visando diminuir os erros nas predições do modelo.\n",
    "\n",
    "A provável causa do valor alto para os erros, pode ter sido o fato de usarmos todos os ratings em nossos cálculos. Vamos agora usar apenas os \"top 5 usuários similares\" enquanto estivermos preparando nossas predições.\n",
    "\n",
    "Para isso, vamos usar o modelo KNN e usar uma medida de similaridade (cosine) para encontrar o \"top 5 usuários similares\"."
   ]
  },
  {
   "cell_type": "code",
   "execution_count": 20,
   "metadata": {},
   "outputs": [
    {
     "data": {
      "text/plain": [
       "NearestNeighbors(algorithm='auto', leaf_size=30, metric='minkowski',\n",
       "                 metric_params=None, n_jobs=None, n_neighbors=5, p=2,\n",
       "                 radius='cosine')"
      ]
     },
     "execution_count": 20,
     "metadata": {},
     "output_type": "execute_result"
    }
   ],
   "source": [
    "# Definir o objeto NearestNeighbors passando k (=5) como parâmetro e definindo o método de similaridade para criar o modelo\n",
    "k = 5\n",
    "modelo = NearestNeighbors(k,'cosine')\n",
    "modelo.fit(train)"
   ]
  },
  {
   "cell_type": "code",
   "execution_count": 21,
   "metadata": {},
   "outputs": [],
   "source": [
    "# Extraindo os usuários top 5 em similaridade\n",
    "top_k_distances, top_k_users = modelo.kneighbors(train, return_distance = True)"
   ]
  },
  {
   "cell_type": "code",
   "execution_count": 22,
   "metadata": {},
   "outputs": [],
   "source": [
    "# Preparando a matriz de zeros\n",
    "user_pred_k = np.zeros(train.shape)"
   ]
  },
  {
   "cell_type": "code",
   "execution_count": 23,
   "metadata": {},
   "outputs": [],
   "source": [
    "# Fazendo as predições\n",
    "for i in range(train.shape[0]):\n",
    "  user_pred_k[i,:] = top_k_distances[i].T.dot(train[top_k_users][i])/np.array([np.abs(top_k_distances[i].T).sum(axis=0)]).T"
   ]
  },
  {
   "cell_type": "code",
   "execution_count": 24,
   "metadata": {},
   "outputs": [
    {
     "data": {
      "text/plain": [
       "10.500998736279277"
      ]
     },
     "execution_count": 24,
     "metadata": {},
     "output_type": "execute_result"
    }
   ],
   "source": [
    "get_mse(user_pred_k, train)"
   ]
  },
  {
   "cell_type": "code",
   "execution_count": 25,
   "metadata": {},
   "outputs": [
    {
     "data": {
      "text/plain": [
       "12.797212587696077"
      ]
     },
     "execution_count": 25,
     "metadata": {},
     "output_type": "execute_result"
    }
   ],
   "source": [
    "get_mse(user_pred_k, test)"
   ]
  },
  {
   "cell_type": "markdown",
   "metadata": {},
   "source": [
    "Notamos que utilizando o algoritmo KNN o nosso modelo teve uma piora na métrica dos erros.\n",
    "\n",
    "Como nossa matriz possui muitos valores esparsos, iremos utilizar a técnica de Redução de Dimensionalidade, aplicando o algoritmo SVD, que se adapta muito bem a matrizes esparsas."
   ]
  },
  {
   "cell_type": "code",
   "execution_count": 26,
   "metadata": {},
   "outputs": [],
   "source": [
    "# Tentando diminuir o erro aplicando o algoritmo SVD para fazer as predições\n",
    "\n",
    "def get_top_n(predictions, n=10):\n",
    "    '''Retorna as n maiores recomendações para cada usuário de um conjunto de predições.\n",
    "\n",
    "    Argumentos:\n",
    "        predictions(lista de objetos de Predição): A lista das predições, retornado pelo \n",
    "        método de teste do algoritmo.\n",
    "        n(int): O número de recomendações para cada usuário. O padrão é 10.\n",
    "\n",
    "    Retorna:\n",
    "        Um dicionário onde as chaves são os usuários (raw) e os valores são listas de tuplas:\n",
    "        [(raw item id, rating estimation), ...] do tamanho n.\n",
    "    '''\n",
    "\n",
    "    # Primeiro, mapeie as predições de cada usuário\n",
    "    top_n = defaultdict(list)\n",
    "    for uid, iid, true_r, est, _ in predictions:\n",
    "        top_n[uid].append((iid, est))\n",
    "\n",
    "    # Então ordene as predições para cada usuário e obtenha as k maiores.\n",
    "    for uid, user_ratings in top_n.items():\n",
    "        user_ratings.sort(key=lambda x: x[1], reverse=True)\n",
    "        top_n[uid] = user_ratings[:n]\n",
    "\n",
    "    return top_n\n",
    "\n",
    "\n",
    "# Primeiro treino o algoritmo SVD com o dataset\n",
    "reader = Reader()\n",
    "data_ = Dataset.load_from_df(data[['userId', 'title', 'rating']], reader)\n",
    "trainset = data_.build_full_trainset()\n",
    "algo = SVD()\n",
    "algo.fit(trainset)\n",
    "\n",
    "# E então predite as avaliações para todos os pares (u, i) que não estão no conjunto de treino.\n",
    "testset = trainset.build_anti_testset()\n",
    "predictions = algo.test(testset)\n",
    "\n",
    "top_n = get_top_n(predictions, n=20)"
   ]
  },
  {
   "cell_type": "code",
   "execution_count": 27,
   "metadata": {},
   "outputs": [
    {
     "name": "stdout",
     "output_type": "stream",
     "text": [
      "500 ['Harold and Maude (1971)', 'Up (2009)', 'Dr. Strangelove or: How I Learned to Stop Worrying and Love the Bomb (1964)', 'Alien (1979)', 'His Girl Friday (1940)', 'Lawrence of Arabia (1962)', 'Sunset Blvd. (a.k.a. Sunset Boulevard) (1950)', 'Raiders of the Lost Ark (Indiana Jones and the Raiders of the Lost Ark) (1981)', 'Seven (a.k.a. Se7en) (1995)', 'Great Escape, The (1963)', 'Lord of the Rings: The Fellowship of the Ring, The (2001)', 'Perks of Being a Wallflower, The (2012)', 'Femme Nikita, La (Nikita) (1990)', 'Prestige, The (2006)', 'Graduate, The (1967)', 'Pulp Fiction (1994)', 'Lord of the Rings: The Return of the King, The (2003)', 'Bridge on the River Kwai, The (1957)', 'Little Big Man (1970)', 'Third Man, The (1949)']\n"
     ]
    }
   ],
   "source": [
    "# Função para calcular as predições de um usuário \n",
    "def recommended(userID, n=10):\n",
    "    for uid, user_ratings in top_n.items():\n",
    "        if uid == userID:\n",
    "            print(uid, [iid for (iid, _) in user_ratings])\n",
    "\n",
    "# Fazendo predições ( userId = 500, 20 recomendações )\n",
    "recommended = recommended(500, n=20)"
   ]
  },
  {
   "cell_type": "code",
   "execution_count": 28,
   "metadata": {},
   "outputs": [
    {
     "name": "stdout",
     "output_type": "stream",
     "text": [
      "RMSE: 0.8729\n",
      "RMSE: 0.8776\n",
      "RMSE: 0.8714\n",
      "RMSE: 0.8761\n",
      "RMSE: 0.8713\n"
     ]
    }
   ],
   "source": [
    "# Calculando o RMSE do nosso modelo já treinado ( SVD )\n",
    "\n",
    "# Dividindo o dataset em 5 partes com o KFold\n",
    "kf = KFold(n_splits = 5)\n",
    "\n",
    "# Usando o algoritmo SVD.\n",
    "algo = SVD()\n",
    "\n",
    "# Calculando o RMSE do nosso modelo.\n",
    "for trainset, testset in kf.split(data_):\n",
    "    algo.fit(trainset)\n",
    "    predictions = algo.test(testset)    \n",
    "    accuracy.rmse(predictions, verbose=True)"
   ]
  },
  {
   "cell_type": "markdown",
   "metadata": {},
   "source": [
    "Como podemos observar, utilizando o algoritmo SVD no nosso modelo, o erro nas predições diminuiu consideravelmente, tornando o modelo mais preciso nas suas predições."
   ]
  },
  {
   "cell_type": "code",
   "execution_count": null,
   "metadata": {},
   "outputs": [],
   "source": []
  }
 ],
 "metadata": {
  "kernelspec": {
   "display_name": "Python 3",
   "language": "python",
   "name": "python3"
  },
  "language_info": {
   "codemirror_mode": {
    "name": "ipython",
    "version": 3
   },
   "file_extension": ".py",
   "mimetype": "text/x-python",
   "name": "python",
   "nbconvert_exporter": "python",
   "pygments_lexer": "ipython3",
   "version": "3.7.4"
  }
 },
 "nbformat": 4,
 "nbformat_minor": 2
}
